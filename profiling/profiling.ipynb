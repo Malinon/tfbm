{
 "cells": [
  {
   "cell_type": "code",
   "execution_count": 1,
   "id": "d1b22bb6",
   "metadata": {},
   "outputs": [],
   "source": [
    "import cProfile\n",
    "import sys\n",
    "sys.path.append(\"..\")"
   ]
  },
  {
   "cell_type": "code",
   "execution_count": 2,
   "id": "ecf167b9",
   "metadata": {},
   "outputs": [],
   "source": [
    "import legacy\n",
    "T = 10\n",
    "N = 1000\n",
    "H = 0.7\n",
    "lambd = 0.3\n",
    "generator = legacy.TFBMI(T, N, H, lambd)\n",
    "num_of_samples = 1000\n",
    "generator.generate_samples(num_of_samples)\n",
    "def legacy_generation():\n",
    "    pass"
   ]
  },
  {
   "cell_type": "code",
   "execution_count": 3,
   "id": "472194c0",
   "metadata": {},
   "outputs": [],
   "source": [
    "a=generator.generate_samples(num_of_samples)"
   ]
  },
  {
   "cell_type": "code",
   "execution_count": 4,
   "id": "5dbec905",
   "metadata": {},
   "outputs": [],
   "source": [
    "cProfile.run('generator.generate_samples(num_of_samples)', 'profile_results')"
   ]
  },
  {
   "cell_type": "code",
   "execution_count": 5,
   "id": "4156efa0",
   "metadata": {},
   "outputs": [
    {
     "name": "stdout",
     "output_type": "stream",
     "text": [
      "Tue Oct  1 23:10:29 2024    profile_results\n",
      "\n",
      "         73010 function calls in 1.414 seconds\n",
      "\n",
      "   Ordered by: internal time\n",
      "\n",
      "   ncalls  tottime  percall  cumtime  percall filename:lineno(function)\n",
      "     2000    0.385    0.000    0.385    0.000 /home/xardas/Dokumenty/tfbm/profiling/../legacy/tfbm1_class.py:64(<listcomp>)\n",
      "     5000    0.240    0.000    0.240    0.000 {built-in method numpy.array}\n",
      "     1000    0.226    0.000    3.276    0.003 /home/xardas/Dokumenty/tfbm/profiling/../legacy/tfbm1_class.py:60(dh)\n",
      "     1000    0.188    0.000    0.188    0.000 /home/xardas/Dokumenty/tfbm/profiling/../legacy/tfbm1_class.py:66(<listcomp>)\n",
      "     1000    0.119    0.000    0.119    0.000 {method 'normal' of 'numpy.random.mtrand.RandomState' objects}\n",
      "     6000    0.077    0.000    0.079    0.000 /home/xardas/Dokumenty/tfbm/profiling/../legacy/tfbm1_class.py:16(ct_2)\n",
      "     1001    0.058    0.000    0.058    0.000 {built-in method numpy.fft._pocketfft_internal.execute}\n",
      "     1000    0.026    0.000    0.062    0.000 /home/xardas/.local/lib/python3.10/site-packages/numpy/lib/function_base.py:5368(insert)\n",
      "     1000    0.016    0.000    0.016    0.000 {method 'cumsum' of 'numpy.ndarray' objects}\n",
      "        1    0.010    0.010    3.460    3.460 /home/xardas/Dokumenty/tfbm/profiling/../legacy/tfbm1_class.py:96(generate_samples)\n",
      "     1000    0.010    0.000    0.028    0.000 /home/xardas/.local/lib/python3.10/site-packages/numpy/core/numeric.py:1393(moveaxis)\n",
      "     2000    0.009    0.000    0.014    0.000 /home/xardas/.local/lib/python3.10/site-packages/numpy/core/numeric.py:1330(normalize_axis_tuple)\n",
      "     2000    0.005    0.000    0.084    0.000 /home/xardas/Dokumenty/tfbm/profiling/../legacy/tfbm1_class.py:27(increment_autocovariance)\n",
      "     1001    0.004    0.000    0.068    0.000 /home/xardas/.local/lib/python3.10/site-packages/numpy/fft/_pocketfft.py:122(fft)\n",
      "     1001    0.004    0.000    0.062    0.000 /home/xardas/.local/lib/python3.10/site-packages/numpy/fft/_pocketfft.py:49(_raw_fft)\n",
      "     1002    0.004    0.000    0.004    0.000 {built-in method numpy.zeros}\n",
      "        1    0.003    0.003    0.087    0.087 /home/xardas/Dokumenty/tfbm/profiling/../legacy/tfbm1_class.py:100(<listcomp>)\n",
      "     1000    0.003    0.000    0.022    0.000 /home/xardas/.local/lib/python3.10/site-packages/numpy/core/fromnumeric.py:2512(cumsum)\n",
      "     1000    0.003    0.000    0.020    0.000 /home/xardas/.local/lib/python3.10/site-packages/numpy/core/fromnumeric.py:53(_wrapfunc)\n",
      "     2000    0.002    0.000    0.003    0.000 /home/xardas/.local/lib/python3.10/site-packages/numpy/core/numeric.py:1380(<listcomp>)\n",
      "    11994    0.002    0.000    0.002    0.000 {built-in method builtins.abs}\n",
      "     1000    0.002    0.000    0.002    0.000 {built-in method builtins.sorted}\n",
      "     1000    0.002    0.000    0.002    0.000 {built-in method numpy.empty}\n",
      "     3001    0.002    0.000    0.002    0.000 {built-in method numpy.core._multiarray_umath.normalize_axis_index}\n",
      "        1    0.002    0.002    3.461    3.461 <string>:1(<module>)\n",
      "     6000    0.001    0.000    0.001    0.000 {built-in method builtins.len}\n",
      "     1000    0.001    0.000    0.001    0.000 {method 'transpose' of 'numpy.ndarray' objects}\n",
      "     1000    0.001    0.000    0.001    0.000 /home/xardas/.local/lib/python3.10/site-packages/numpy/lib/type_check.py:120(real)\n",
      "     2001    0.001    0.000    0.001    0.000 {built-in method numpy.asarray}\n",
      "     1001    0.001    0.000    0.001    0.000 /home/xardas/.local/lib/python3.10/site-packages/numpy/fft/_pocketfft.py:78(_get_forward_norm)\n",
      "     1000    0.001    0.000    0.001    0.000 {built-in method builtins.getattr}\n",
      "     1000    0.001    0.000    0.001    0.000 {method 'item' of 'numpy.ndarray' objects}\n",
      "     2000    0.001    0.000    0.001    0.000 {built-in method _operator.index}\n",
      "     1000    0.001    0.000    0.001    0.000 /home/xardas/.local/lib/python3.10/site-packages/numpy/core/numeric.py:1455(<listcomp>)\n",
      "     2001    0.001    0.000    0.001    0.000 /home/xardas/Dokumenty/tfbm/profiling/../legacy/tfbm1_class.py:102(<genexpr>)\n",
      "     1000    0.001    0.000    0.001    0.000 {built-in method builtins.isinstance}\n",
      "     1001    0.001    0.000    0.001    0.000 /home/xardas/.local/lib/python3.10/site-packages/numpy/fft/_pocketfft.py:118(_fft_dispatcher)\n",
      "     1000    0.001    0.000    0.001    0.000 {method 'insert' of 'list' objects}\n",
      "     1000    0.001    0.000    0.001    0.000 /home/xardas/.local/lib/python3.10/site-packages/numpy/core/fromnumeric.py:2508(_cumsum_dispatcher)\n",
      "     1000    0.001    0.000    0.001    0.000 /home/xardas/.local/lib/python3.10/site-packages/numpy/lib/type_check.py:116(_real_dispatcher)\n",
      "     1000    0.001    0.000    0.001    0.000 /home/xardas/.local/lib/python3.10/site-packages/numpy/lib/function_base.py:5364(_insert_dispatcher)\n",
      "     1000    0.000    0.000    0.000    0.000 /home/xardas/.local/lib/python3.10/site-packages/numpy/core/numeric.py:1389(_moveaxis_dispatcher)\n",
      "        1    0.000    0.000    0.001    0.001 {built-in method builtins.all}\n",
      "        1    0.000    0.000    3.461    3.461 {built-in method builtins.exec}\n",
      "        1    0.000    0.000    0.000    0.000 {method 'disable' of '_lsprof.Profiler' objects}\n",
      "\n",
      "\n"
     ]
    },
    {
     "data": {
      "text/plain": [
       "<pstats.Stats at 0x7ecd5bf8c5b0>"
      ]
     },
     "execution_count": 5,
     "metadata": {},
     "output_type": "execute_result"
    }
   ],
   "source": [
    "import pstats\n",
    "stats = pstats.Stats('profile_results')\n",
    "stats.sort_stats('time').print_stats()"
   ]
  },
  {
   "cell_type": "code",
   "execution_count": 22,
   "id": "311dd880",
   "metadata": {},
   "outputs": [],
   "source": [
    "generator = legacy.TFBMI(T, N, H, lambd, method=\"cholesky\")"
   ]
  },
  {
   "cell_type": "code",
   "execution_count": 23,
   "id": "11d4538f",
   "metadata": {},
   "outputs": [],
   "source": [
    "cProfile.run('generator.generate_samples(num_of_samples)', 'profile_results_chol')"
   ]
  },
  {
   "cell_type": "code",
   "execution_count": 25,
   "id": "b1191033",
   "metadata": {},
   "outputs": [
    {
     "name": "stdout",
     "output_type": "stream",
     "text": [
      "Tue Oct  1 23:07:02 2024    profile_results_chol\n",
      "\n",
      "         36881 function calls in 2.426 seconds\n",
      "\n",
      "   Ordered by: internal time\n",
      "\n",
      "   ncalls  tottime  percall  cumtime  percall filename:lineno(function)\n",
      "        1    0.752    0.752    0.910    0.910 /home/xardas/Dokumenty/tfbm/legacy/tfbm1_class.py:118(<listcomp>)\n",
      "        1    0.687    0.687    0.696    0.696 {built-in method numpy.core._multiarray_umath._load_from_filelike}\n",
      "     1000    0.685    0.001    0.685    0.001 /home/xardas/Dokumenty/tfbm/legacy/tfbm1_class.py:121(<listcomp>)\n",
      "     1000    0.078    0.000    0.078    0.000 {method 'normal' of 'numpy.random.mtrand.RandomState' objects}\n",
      "     1000    0.070    0.000    0.153    0.000 /home/xardas/.local/lib/python3.10/site-packages/numpy/lib/function_base.py:5368(insert)\n",
      "        1    0.028    0.028    0.028    0.028 /home/xardas/.local/lib/python3.10/site-packages/numpy/linalg/linalg.py:688(cholesky)\n",
      "     1000    0.020    0.000    0.060    0.000 /home/xardas/.local/lib/python3.10/site-packages/numpy/core/numeric.py:1393(moveaxis)\n",
      "     2000    0.019    0.000    0.031    0.000 /home/xardas/.local/lib/python3.10/site-packages/numpy/core/numeric.py:1330(normalize_axis_tuple)\n",
      "        1    0.017    0.017    2.426    2.426 <string>:1(<module>)\n",
      "     2000    0.014    0.000    0.014    0.000 {built-in method numpy.array}\n",
      "     1531    0.007    0.000    0.007    0.000 {built-in method _codecs.utf_8_decode}\n",
      "     1002    0.005    0.000    0.005    0.000 {built-in method numpy.empty}\n",
      "     2000    0.005    0.000    0.008    0.000 /home/xardas/.local/lib/python3.10/site-packages/numpy/core/numeric.py:1380(<listcomp>)\n",
      "     1000    0.004    0.000    0.004    0.000 /home/xardas/.local/lib/python3.10/site-packages/numpy/lib/function_base.py:5364(_insert_dispatcher)\n",
      "        2    0.004    0.002    0.004    0.002 /home/xardas/.local/lib/python3.10/site-packages/numpy/lib/function_base.py:5172(delete)\n",
      "        1    0.004    0.004    2.410    2.410 /home/xardas/Dokumenty/tfbm/legacy/tfbm1_class.py:96(generate_samples)\n",
      "     1000    0.004    0.000    0.004    0.000 {built-in method builtins.sorted}\n",
      "     8006    0.004    0.000    0.004    0.000 {built-in method builtins.len}\n",
      "     2002    0.003    0.000    0.003    0.000 {built-in method numpy.core._multiarray_umath.normalize_axis_index}\n",
      "     1000    0.003    0.000    0.003    0.000 {method 'transpose' of 'numpy.ndarray' objects}\n",
      "     1531    0.002    0.000    0.009    0.000 /usr/lib/python3.10/codecs.py:319(decode)\n",
      "        1    0.002    0.002    0.080    0.080 /home/xardas/Dokumenty/tfbm/legacy/tfbm1_class.py:116(<listcomp>)\n",
      "     1031    0.002    0.000    0.002    0.000 {built-in method builtins.isinstance}\n",
      "     2001    0.001    0.000    0.001    0.000 {built-in method _operator.index}\n",
      "     1003    0.001    0.000    0.001    0.000 {built-in method numpy.asarray}\n",
      "     1000    0.001    0.000    0.001    0.000 /home/xardas/.local/lib/python3.10/site-packages/numpy/core/numeric.py:1455(<listcomp>)\n",
      "     1000    0.001    0.000    0.001    0.000 {method 'insert' of 'list' objects}\n",
      "     1000    0.001    0.000    0.001    0.000 {method 'item' of 'numpy.ndarray' objects}\n",
      "     1000    0.001    0.000    0.001    0.000 /home/xardas/.local/lib/python3.10/site-packages/numpy/core/numeric.py:1389(_moveaxis_dispatcher)\n",
      "     1531    0.001    0.000    0.001    0.000 /usr/lib/python3.10/codecs.py:331(getstate)\n",
      "        1    0.001    0.001    0.730    0.730 /home/xardas/Dokumenty/tfbm/legacy/tfbm1_class.py:54(cholesky_decomp_from_file)\n",
      "        1    0.000    0.000    2.426    2.426 {built-in method builtins.exec}\n",
      "        1    0.000    0.000    0.000    0.000 {built-in method io.open}\n",
      "        1    0.000    0.000    0.697    0.697 /home/xardas/.local/lib/python3.10/site-packages/numpy/lib/npyio.py:818(_read)\n",
      "        1    0.000    0.000    0.697    0.697 /home/xardas/Dokumenty/tfbm/legacy/tfbm1_class.py:44(load_cov_matrix)\n",
      "        4    0.000    0.000    0.000    0.000 /usr/lib/python3.10/urllib/parse.py:444(urlsplit)\n",
      "        2    0.000    0.000    0.000    0.000 {built-in method posix.stat}\n",
      "        3    0.000    0.000    0.000    0.000 /usr/lib/python3.10/posixpath.py:338(normpath)\n",
      "        3    0.000    0.000    0.000    0.000 /home/xardas/.local/lib/python3.10/site-packages/numpy/lib/_datasource.py:303(_isurl)\n",
      "        4    0.000    0.000    0.000    0.000 /usr/lib/python3.10/urllib/parse.py:379(urlparse)\n",
      "        1    0.000    0.000    0.697    0.697 /home/xardas/.local/lib/python3.10/site-packages/numpy/lib/npyio.py:1098(loadtxt)\n",
      "        2    0.000    0.000    0.000    0.000 /usr/lib/python3.10/posixpath.py:71(join)\n",
      "        8    0.000    0.000    0.000    0.000 /usr/lib/python3.10/urllib/parse.py:122(_coerce_args)\n",
      "        1    0.000    0.000    0.000    0.000 {method 'close' of '_io.TextIOWrapper' objects}\n",
      "        2    0.000    0.000    0.000    0.000 /home/xardas/.local/lib/python3.10/site-packages/numpy/lib/_datasource.py:417(_sanitize_relative_path)\n",
      "        5    0.000    0.000    0.000    0.000 /home/xardas/.local/lib/python3.10/site-packages/numpy/lib/_datasource.py:130(keys)\n",
      "        3    0.000    0.000    0.000    0.000 /usr/lib/python3.10/genericpath.py:121(_splitext)\n",
      "        1    0.000    0.000    0.000    0.000 /usr/lib/python3.10/genericpath.py:16(exists)\n",
      "        4    0.000    0.000    0.000    0.000 <string>:1(<lambda>)\n",
      "        1    0.000    0.000    0.000    0.000 /home/xardas/.local/lib/python3.10/site-packages/numpy/linalg/linalg.py:159(_commonType)\n",
      "        2    0.000    0.000    0.000    0.000 /home/xardas/.local/lib/python3.10/site-packages/numpy/lib/_datasource.py:294(_possible_names)\n",
      "        3    0.000    0.000    0.000    0.000 /home/xardas/.local/lib/python3.10/site-packages/numpy/lib/_datasource.py:263(_iszip)\n",
      "        1    0.000    0.000    0.000    0.000 /usr/lib/python3.10/genericpath.py:27(isfile)\n",
      "        1    0.000    0.000    0.000    0.000 /usr/lib/python3.10/posixpath.py:377(abspath)\n",
      "        1    0.000    0.000    0.000    0.000 /home/xardas/.local/lib/python3.10/site-packages/numpy/lib/npyio.py:760(_ensure_ndmin_ndarray)\n",
      "        1    0.000    0.000    0.000    0.000 /usr/lib/python3.10/contextlib.py:339(__exit__)\n",
      "        1    0.000    0.000    0.000    0.000 /home/xardas/.local/lib/python3.10/site-packages/numpy/lib/_datasource.py:487(open)\n",
      "        1    0.000    0.000    0.000    0.000 /home/xardas/.local/lib/python3.10/site-packages/numpy/lib/_datasource.py:344(_findfile)\n",
      "        1    0.000    0.000    0.000    0.000 /home/xardas/.local/lib/python3.10/site-packages/numpy/lib/_datasource.py:375(abspath)\n",
      "        3    0.000    0.000    0.000    0.000 /usr/lib/python3.10/posixpath.py:117(splitext)\n",
      "       26    0.000    0.000    0.000    0.000 {method 'replace' of 'str' objects}\n",
      "        1    0.000    0.000    0.000    0.000 {built-in method numpy.zeros}\n",
      "        1    0.000    0.000    0.000    0.000 {method 'astype' of 'numpy.ndarray' objects}\n",
      "        5    0.000    0.000    0.000    0.000 {method 'get' of 'dict' objects}\n",
      "        1    0.000    0.000    0.000    0.000 {built-in method posix.getcwd}\n",
      "       16    0.000    0.000    0.000    0.000 {method 'lstrip' of 'str' objects}\n",
      "        1    0.000    0.000    0.000    0.000 /usr/lib/python3.10/posixpath.py:60(isabs)\n",
      "        1    0.000    0.000    0.001    0.001 /home/xardas/.local/lib/python3.10/site-packages/numpy/lib/_datasource.py:155(open)\n",
      "        1    0.000    0.000    0.000    0.000 /home/xardas/.local/lib/python3.10/site-packages/numpy/core/fromnumeric.py:1491(squeeze)\n",
      "        7    0.000    0.000    0.000    0.000 {method 'startswith' of 'str' objects}\n",
      "       15    0.000    0.000    0.000    0.000 {method 'append' of 'list' objects}\n",
      "        1    0.000    0.000    0.000    0.000 /home/xardas/.local/lib/python3.10/site-packages/numpy/lib/npyio.py:787(_check_nonneg_int)\n",
      "        1    0.000    0.000    0.000    0.000 {built-in method _abc._abc_instancecheck}\n",
      "        3    0.000    0.000    0.000    0.000 {method 'split' of 'str' objects}\n",
      "        1    0.000    0.000    0.000    0.000 /home/xardas/.local/lib/python3.10/site-packages/numpy/lib/_datasource.py:256(__del__)\n",
      "        1    0.000    0.000    0.000    0.000 /home/xardas/.local/lib/python3.10/site-packages/numpy/lib/_datasource.py:246(__init__)\n",
      "        1    0.000    0.000    0.000    0.000 /home/xardas/.local/lib/python3.10/site-packages/numpy/linalg/linalg.py:135(_makearray)\n",
      "        1    0.000    0.000    0.000    0.000 /usr/lib/python3.10/abc.py:117(__instancecheck__)\n",
      "       13    0.000    0.000    0.000    0.000 {built-in method posix.fspath}\n",
      "        6    0.000    0.000    0.000    0.000 /home/xardas/.local/lib/python3.10/site-packages/numpy/lib/_datasource.py:103(_load)\n",
      "        3    0.000    0.000    0.000    0.000 /usr/lib/python3.10/posixpath.py:131(splitdrive)\n",
      "        6    0.000    0.000    0.000    0.000 {method 'rfind' of 'str' objects}\n",
      "        1    0.000    0.000    0.000    0.000 /usr/lib/python3.10/contextlib.py:732(__init__)\n",
      "        8    0.000    0.000    0.000    0.000 /usr/lib/python3.10/urllib/parse.py:111(_noop)\n",
      "        1    0.000    0.000    0.000    0.000 /home/xardas/.local/lib/python3.10/site-packages/numpy/linalg/linalg.py:203(_assert_stacked_2d)\n",
      "        1    0.000    0.000    0.000    0.000 /usr/lib/python3.10/codecs.py:309(__init__)\n",
      "        3    0.000    0.000    0.000    0.000 /usr/lib/python3.10/posixpath.py:41(_get_sep)\n",
      "        4    0.000    0.000    0.000    0.000 {built-in method __new__ of type object at 0x58d85cfca9a0}\n",
      "        1    0.000    0.000    0.000    0.000 /home/xardas/.local/lib/python3.10/site-packages/numpy/linalg/linalg.py:209(_assert_stacked_square)\n",
      "        2    0.000    0.000    0.000    0.000 /home/xardas/.local/lib/python3.10/site-packages/numpy/lib/function_base.py:5168(_delete_dispatcher)\n",
      "        5    0.000    0.000    0.000    0.000 {method 'keys' of 'dict' objects}\n",
      "        1    0.000    0.000    0.000    0.000 /home/xardas/.local/lib/python3.10/site-packages/numpy/linalg/linalg.py:130(get_linalg_error_extobj)\n",
      "        1    0.000    0.000    0.000    0.000 /home/xardas/.local/lib/python3.10/site-packages/numpy/lib/_datasource.py:431(exists)\n",
      "        1    0.000    0.000    0.000    0.000 /home/xardas/.local/lib/python3.10/site-packages/numpy/lib/npyio.py:1368(<listcomp>)\n",
      "        4    0.000    0.000    0.000    0.000 {method 'strip' of 'str' objects}\n",
      "        2    0.000    0.000    0.000    0.000 /home/xardas/.local/lib/python3.10/site-packages/numpy/linalg/linalg.py:140(isComplexType)\n",
      "        1    0.000    0.000    0.000    0.000 /home/xardas/.local/lib/python3.10/site-packages/numpy/linalg/linalg.py:153(_realType)\n",
      "        2    0.000    0.000    0.000    0.000 {method 'join' of 'str' objects}\n",
      "        1    0.000    0.000    0.000    0.000 /home/xardas/.local/lib/python3.10/site-packages/numpy/lib/_datasource.py:149(__getitem__)\n",
      "        1    0.000    0.000    0.000    0.000 {method 'disable' of '_lsprof.Profiler' objects}\n",
      "        1    0.000    0.000    0.000    0.000 {method '__array_prepare__' of 'numpy.ndarray' objects}\n",
      "        2    0.000    0.000    0.000    0.000 {built-in method builtins.getattr}\n",
      "        1    0.000    0.000    0.000    0.000 {method 'squeeze' of 'numpy.ndarray' objects}\n",
      "        3    0.000    0.000    0.000    0.000 {method 'endswith' of 'str' objects}\n",
      "        1    0.000    0.000    0.000    0.000 /home/xardas/.local/lib/python3.10/site-packages/numpy/lib/_datasource.py:280(_splitzipext)\n",
      "        1    0.000    0.000    0.000    0.000 /home/xardas/.local/lib/python3.10/site-packages/numpy/lib/npyio.py:750(_ensure_ndmin_ndarray_check_param)\n",
      "        3    0.000    0.000    0.000    0.000 {built-in method builtins.issubclass}\n",
      "        1    0.000    0.000    0.000    0.000 /home/xardas/.local/lib/python3.10/site-packages/numpy/core/fromnumeric.py:1487(_squeeze_dispatcher)\n",
      "        1    0.000    0.000    0.000    0.000 /usr/lib/python3.10/codecs.py:260(__init__)\n",
      "        1    0.000    0.000    0.000    0.000 {built-in method _stat.S_ISREG}\n",
      "        1    0.000    0.000    0.000    0.000 /usr/lib/python3.10/contextlib.py:335(__init__)\n",
      "        1    0.000    0.000    0.000    0.000 /home/xardas/.local/lib/python3.10/site-packages/numpy/linalg/linalg.py:488(_unary_dispatcher)\n",
      "        1    0.000    0.000    0.000    0.000 {built-in method builtins.hasattr}\n",
      "        1    0.000    0.000    0.000    0.000 /usr/lib/python3.10/contextlib.py:337(__enter__)\n",
      "\n",
      "\n"
     ]
    },
    {
     "data": {
      "text/plain": [
       "<pstats.Stats at 0x7cd3346f66e0>"
      ]
     },
     "execution_count": 25,
     "metadata": {},
     "output_type": "execute_result"
    }
   ],
   "source": [
    "import pstats\n",
    "stats = pstats.Stats('profile_results_chol')\n",
    "stats.sort_stats('time').print_stats()"
   ]
  },
  {
   "cell_type": "code",
   "execution_count": null,
   "id": "dfb1029a",
   "metadata": {},
   "outputs": [],
   "source": []
  }
 ],
 "metadata": {
  "kernelspec": {
   "display_name": "Python 3 (ipykernel)",
   "language": "python",
   "name": "python3"
  },
  "language_info": {
   "codemirror_mode": {
    "name": "ipython",
    "version": 3
   },
   "file_extension": ".py",
   "mimetype": "text/x-python",
   "name": "python",
   "nbconvert_exporter": "python",
   "pygments_lexer": "ipython3",
   "version": "3.10.12"
  }
 },
 "nbformat": 4,
 "nbformat_minor": 5
}
